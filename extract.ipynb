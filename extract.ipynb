{
 "cells": [
  {
   "cell_type": "code",
   "execution_count": 2,
   "metadata": {},
   "outputs": [],
   "source": [
    "from astropy.utils.data import get_pkg_data_filename\n",
    "import matplotlib.pyplot as plt\n",
    "from astropy.io import fits\n",
    "from astropy.wcs import WCS\n",
    "import pandas as pd\n",
    "import numpy as np\n",
    "import random\n",
    "import shutil\n",
    "import csv \n",
    "import os  #操作系统接口模块\n",
    "import re  #正则表达式"
   ]
  },
  {
   "cell_type": "markdown",
   "metadata": {},
   "source": [
    "# qso数据处理"
   ]
  },
  {
   "cell_type": "code",
   "execution_count": 9,
   "metadata": {},
   "outputs": [
    {
     "name": "stdout",
     "output_type": "stream",
     "text": [
      "16532\n"
     ]
    }
   ],
   "source": [
    "#图片名格式化\n",
    "def str_1(str_origin, str_add):\n",
    "    str_out = str_origin\n",
    "    str_out = str_out[0:7]+str_add+str_out[7:9]+str_out[10:]\n",
    "    return  str_out\n",
    "\n",
    "#加载数据\n",
    "data = pd.read_csv('01/qso.csv',header=None,delimiter=' ')\n",
    "data = np.array(data)\n",
    "img_data= []\n",
    "j=0\n",
    "da=np.zeros((len(data),14,14))\n",
    "\n",
    "for i in range(len(data)):\n",
    "    filepath = '../../lamost_dr7_qso/frame/fpC-'+str_1(data[i][3],'r')+'.fit.gz'\n",
    "    if os.path.isfile(filepath):\n",
    "        raw_picture=fits.open(filepath)  \n",
    "        image_data = raw_picture[0].data\n",
    "        wcs=WCS(raw_picture[0].header)\n",
    "        if (raw_picture[0].header['CTYPE1'] == 'RA---TAN')== True & (raw_picture[0].header['CTYPE2'] == 'DEC--TAN') == True:\n",
    "            x,y=wcs.all_world2pix(data[i,1],data[i,2],1)\n",
    "            if np.isnan(x) == False & np.isnan(y) == False:\n",
    "                if (7<x<=2040)==True & (7<y<=1480)==True:\n",
    "                    da[j]=raw_picture[0].data[int(y)-7:int(y)+7,int(x)-7:int(x)+7]\n",
    "                    img_data.append(data[i])\n",
    "#                     plt.imshow(da[j])\n",
    "#                     plt.show()\n",
    "                    j=j+1\n",
    "print(j)"
   ]
  },
  {
   "cell_type": "code",
   "execution_count": 11,
   "metadata": {},
   "outputs": [],
   "source": [
    "np.savetxt('02/qso_r.csv',img_data,fmt='%s')\n",
    "np.save('02/qso_r_img.npy',da[0:j])"
   ]
  },
  {
   "cell_type": "code",
   "execution_count": 9,
   "metadata": {},
   "outputs": [
    {
     "name": "stdout",
     "output_type": "stream",
     "text": [
      "16463\n"
     ]
    }
   ],
   "source": [
    "#图片名格式化\n",
    "def str_1(str_origin, str_add):\n",
    "    str_out = str_origin\n",
    "    str_out = str_out[0:7]+str_add+str_out[7:9]+str_out[10:]\n",
    "    return  str_out\n",
    "\n",
    "#加载数据\n",
    "data = pd.read_csv('01/qso.csv',header=None,delimiter=' ')\n",
    "data = np.array(data)\n",
    "img_data= []\n",
    "j=0\n",
    "da1=np.zeros((len(data),14,14))\n",
    "da2=np.zeros((len(data),14,14))\n",
    "da3=np.zeros((len(data),14,14))\n",
    "\n",
    "for i in range(len(data)):\n",
    "    filepath1 = '../../lamost_dr7_qso/frame/fpC-'+str_1(data[i][3],'u')+'.fit.gz'\n",
    "    filepath2 = '../../lamost_dr7_qso/frame/fpC-'+str_1(data[i][3],'g')+'.fit.gz'\n",
    "    filepath3 = '../../lamost_dr7_qso/frame/fpC-'+str_1(data[i][3],'r')+'.fit.gz'\n",
    "    if os.path.isfile(filepath1) and os.path.isfile(filepath2) and os.path.isfile(filepath3):\n",
    "        raw_picture1=fits.open(filepath1) \n",
    "        raw_picture2=fits.open(filepath2) \n",
    "        raw_picture3=fits.open(filepath3) \n",
    "        image_data1 = raw_picture1[0].data\n",
    "        image_data2 = raw_picture2[0].data\n",
    "        image_data3 = raw_picture3[0].data\n",
    "        \n",
    "        wcs1=WCS(raw_picture1[0].header)\n",
    "        wcs2=WCS(raw_picture2[0].header)\n",
    "        wcs3=WCS(raw_picture3[0].header)\n",
    "        if (raw_picture1[0].header['CTYPE1'] == 'RA---TAN')== True & (raw_picture1[0].header['CTYPE2'] == 'DEC--TAN') == True & (raw_picture2[0].header['CTYPE1'] == 'RA---TAN')== True & (raw_picture2[0].header['CTYPE2'] == 'DEC--TAN') == True & (raw_picture3[0].header['CTYPE1'] == 'RA---TAN')== True & (raw_picture3[0].header['CTYPE2'] == 'DEC--TAN') == True:\n",
    "            x1,y1=wcs1.all_world2pix(data[i,1],data[i,2],1)\n",
    "            x2,y2=wcs1.all_world2pix(data[i,1],data[i,2],1)\n",
    "            x3,y3=wcs1.all_world2pix(data[i,1],data[i,2],1)\n",
    "            if np.isnan(x1) == False & np.isnan(y1) == False & np.isnan(x2) == False & np.isnan(y2) == False &np.isnan(x3) == False & np.isnan(y3) == False:\n",
    "                if (7<x1<=2040)==True & (7<y1<=1480)==True & (7<x2<=2040)==True & (7<y2<=1480)==True & (7<x3<=2040)==True & (7<y3<=1480)==True:\n",
    "                    da1[j]=raw_picture1[0].data[int(y1)-7:int(y1)+7,int(x1)-7:int(x1)+7]\n",
    "                    da2[j]=raw_picture2[0].data[int(y2)-7:int(y2)+7,int(x2)-7:int(x2)+7]\n",
    "                    da3[j]=raw_picture3[0].data[int(y3)-7:int(y3)+7,int(x3)-7:int(x3)+7]\n",
    "                    img_data.append(data[i])\n",
    "#                     plt.imshow(da[j])\n",
    "#                     plt.show()\n",
    "                    j=j+1\n",
    "print(j)"
   ]
  },
  {
   "cell_type": "code",
   "execution_count": 10,
   "metadata": {},
   "outputs": [],
   "source": [
    "np.savetxt('02/qso.csv',img_data,fmt='%s')\n",
    "np.save('02/qso_u_img.npy',da1[0:j])\n",
    "np.save('02/qso_g_img.npy',da2[0:j])\n",
    "np.save('02/qso_r_img.npy',da3[0:j])"
   ]
  },
  {
   "cell_type": "markdown",
   "metadata": {},
   "source": [
    "# Star数据处理"
   ]
  },
  {
   "cell_type": "code",
   "execution_count": 12,
   "metadata": {},
   "outputs": [
    {
     "name": "stdout",
     "output_type": "stream",
     "text": [
      "8259\n"
     ]
    }
   ],
   "source": [
    "#图片名格式化\n",
    "def str_1(str_origin, str_add):\n",
    "    str_out = str_origin\n",
    "    str_out = str_out[0:7]+str_add+str_out[7:9]+str_out[10:]\n",
    "    return  str_out\n",
    "\n",
    "#加载数据\n",
    "data = pd.read_csv('01/star.csv',header=None,delimiter=' ')\n",
    "data = np.array(data)\n",
    "img_data= []\n",
    "j=0\n",
    "da=np.zeros((len(data),14,14))\n",
    "\n",
    "for i in range(len(data)):\n",
    "    filepath = '../../lamost_dr7_star/frame/fpC-'+str_1(data[i][3],'r')+'.fit.gz'\n",
    "    if os.path.isfile(filepath):\n",
    "        raw_picture=fits.open(filepath)  \n",
    "        image_data = raw_picture[0].data\n",
    "        wcs=WCS(raw_picture[0].header)\n",
    "        if (raw_picture[0].header['CTYPE1'] == 'RA---TAN')== True & (raw_picture[0].header['CTYPE2'] == 'DEC--TAN') == True:\n",
    "            x,y=wcs.all_world2pix(data[i,1],data[i,2],1)\n",
    "            if np.isnan(x) == False & np.isnan(y) == False:\n",
    "                if (7<x<=2040)==True & (7<y<=1480)==True:\n",
    "                    da[j]=raw_picture[0].data[int(y)-7:int(y)+7,int(x)-7:int(x)+7]\n",
    "                    img_data.append(data[i])\n",
    "#                     plt.imshow(da[j])\n",
    "#                     plt.show()\n",
    "                    j=j+1\n",
    "print(j)"
   ]
  },
  {
   "cell_type": "code",
   "execution_count": 13,
   "metadata": {},
   "outputs": [],
   "source": [
    "np.savetxt('02/star_r.csv',img_data,fmt='%s')\n",
    "np.save('02/star_r_img.npy',da[0:j])"
   ]
  },
  {
   "cell_type": "code",
   "execution_count": 7,
   "metadata": {},
   "outputs": [
    {
     "name": "stdout",
     "output_type": "stream",
     "text": [
      "8255\n"
     ]
    }
   ],
   "source": [
    "#图片名格式化\n",
    "def str_1(str_origin, str_add):\n",
    "    str_out = str_origin\n",
    "    str_out = str_out[0:7]+str_add+str_out[7:9]+str_out[10:]\n",
    "    return  str_out\n",
    "\n",
    "#加载数据\n",
    "data = pd.read_csv('01/star.csv',header=None,delimiter=' ')\n",
    "data = np.array(data)\n",
    "img_data= []\n",
    "j=0\n",
    "da1=np.zeros((len(data),14,14))\n",
    "da2=np.zeros((len(data),14,14))\n",
    "da3=np.zeros((len(data),14,14))\n",
    "\n",
    "for i in range(len(data)):\n",
    "    filepath1 = '../../lamost_dr7_star/frame/fpC-'+str_1(data[i][3],'u')+'.fit.gz'\n",
    "    filepath2 = '../../lamost_dr7_star/frame/fpC-'+str_1(data[i][3],'g')+'.fit.gz'\n",
    "    filepath3 = '../../lamost_dr7_star/frame/fpC-'+str_1(data[i][3],'r')+'.fit.gz'\n",
    "    if os.path.isfile(filepath1) and os.path.isfile(filepath2) and os.path.isfile(filepath3):\n",
    "        raw_picture1=fits.open(filepath1) \n",
    "        raw_picture2=fits.open(filepath2) \n",
    "        raw_picture3=fits.open(filepath3) \n",
    "        image_data1 = raw_picture1[0].data\n",
    "        image_data2 = raw_picture2[0].data\n",
    "        image_data3 = raw_picture3[0].data\n",
    "        \n",
    "        wcs1=WCS(raw_picture1[0].header)\n",
    "        wcs2=WCS(raw_picture2[0].header)\n",
    "        wcs3=WCS(raw_picture3[0].header)\n",
    "        if (raw_picture1[0].header['CTYPE1'] == 'RA---TAN')== True & (raw_picture1[0].header['CTYPE2'] == 'DEC--TAN') == True & (raw_picture2[0].header['CTYPE1'] == 'RA---TAN')== True & (raw_picture2[0].header['CTYPE2'] == 'DEC--TAN') == True & (raw_picture3[0].header['CTYPE1'] == 'RA---TAN')== True & (raw_picture3[0].header['CTYPE2'] == 'DEC--TAN') == True:\n",
    "            x1,y1=wcs1.all_world2pix(data[i,1],data[i,2],1)\n",
    "            x2,y2=wcs1.all_world2pix(data[i,1],data[i,2],1)\n",
    "            x3,y3=wcs1.all_world2pix(data[i,1],data[i,2],1)\n",
    "            if np.isnan(x1) == False & np.isnan(y1) == False & np.isnan(x2) == False & np.isnan(y2) == False &np.isnan(x3) == False & np.isnan(y3) == False:\n",
    "                if (7<x1<=2040)==True & (7<y1<=1480)==True & (7<x2<=2040)==True & (7<y2<=1480)==True & (7<x3<=2040)==True & (7<y3<=1480)==True:\n",
    "                    da1[j]=raw_picture1[0].data[int(y1)-7:int(y1)+7,int(x1)-7:int(x1)+7]\n",
    "                    da2[j]=raw_picture2[0].data[int(y2)-7:int(y2)+7,int(x2)-7:int(x2)+7]\n",
    "                    da3[j]=raw_picture3[0].data[int(y3)-7:int(y3)+7,int(x3)-7:int(x3)+7]\n",
    "                    img_data.append(data[i])\n",
    "#                     plt.imshow(da[j])\n",
    "#                     plt.show()\n",
    "                    j=j+1\n",
    "print(j)"
   ]
  },
  {
   "cell_type": "code",
   "execution_count": 8,
   "metadata": {},
   "outputs": [],
   "source": [
    "np.savetxt('02/star.csv',img_data,fmt='%s')\n",
    "np.save('02/star_u_img.npy',da1[0:j])\n",
    "np.save('02/star_g_img.npy',da2[0:j])\n",
    "np.save('02/star_r_img.npy',da3[0:j])"
   ]
  }
 ],
 "metadata": {
  "kernelspec": {
   "display_name": "Python 3",
   "language": "python",
   "name": "python3"
  },
  "language_info": {
   "codemirror_mode": {
    "name": "ipython",
    "version": 3
   },
   "file_extension": ".py",
   "mimetype": "text/x-python",
   "name": "python",
   "nbconvert_exporter": "python",
   "pygments_lexer": "ipython3",
   "version": "3.6.9"
  }
 },
 "nbformat": 4,
 "nbformat_minor": 2
}
