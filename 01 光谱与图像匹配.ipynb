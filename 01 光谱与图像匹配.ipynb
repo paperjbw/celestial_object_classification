{
 "cells": [
  {
   "cell_type": "code",
   "execution_count": 1,
   "metadata": {},
   "outputs": [],
   "source": [
    "#数据输入\n",
    "import matplotlib.pyplot as plt\n",
    "import re\n",
    "import numpy as np\n",
    "from sklearn.model_selection import train_test_split\n",
    "from astropy.io import fits\n",
    "from astropy.wcs import WCS\n",
    "from astropy.coordinates import SkyCoord  # High-level coordinates\n",
    "from astropy.coordinates import ICRS, Galactic, FK4, FK5  # Low-level frames\n",
    "from astropy.coordinates import Angle, Latitude, Longitude  # Angles\n",
    "import astropy.units as u \n",
    "import pandas as pd\n",
    "import os"
   ]
  },
  {
   "cell_type": "markdown",
   "metadata": {},
   "source": [
    "# qso光谱图像"
   ]
  },
  {
   "cell_type": "code",
   "execution_count": 2,
   "metadata": {},
   "outputs": [],
   "source": [
    "dir=\"../../lamost_dr7_qso/lamost_spectra/\"    #目录路径\n",
    "#获取当前目录下所有的文件路径\n",
    "AllPath = []\n",
    "for root,dirs,files in os.walk(dir):\n",
    "    for file in files:\n",
    "        #f.writelines(os.path.join(root,file)+\"\\n\")\n",
    "        if file != \".DS_Store\":\n",
    "            AllPath.append(os.path.join(root,file))\n",
    "            \n",
    "data=pd.read_csv('../../lamost_dr7_qso.csv',delimiter='\\t')\n",
    "data=np.array(data)"
   ]
  },
  {
   "cell_type": "code",
   "execution_count": 4,
   "metadata": {},
   "outputs": [
    {
     "name": "stdout",
     "output_type": "stream",
     "text": [
      "4983\n"
     ]
    }
   ],
   "source": [
    "#光谱和坐标进行匹配\n",
    "data_path=[]\n",
    "data_save=[]\n",
    "\n",
    "j=0\n",
    "#for i in range(len(data)):\n",
    "for i in range(len(data)):\n",
    "    a = data[i,0][8:].split(\"_\")[0]\n",
    "    for z in range(len(AllPath)):\n",
    "        b = AllPath[z][47:].split(\".\")[0].replace('_sp', '').replace('_', '').replace('-', '')\n",
    "        if (a == b):            \n",
    "            test=fits.open(AllPath[z])\n",
    "            time=test[0].header['DATE-OBS']\n",
    "            head=time[0:4]+time[5:7]+time[8:10]\n",
    "\n",
    "            if (head == data[i,0][0:8]):                        \n",
    "                data_path.append(AllPath[z])\n",
    "                data_save.append(data[i])\n",
    "                j=j+1\n",
    "print(j)"
   ]
  },
  {
   "cell_type": "code",
   "execution_count": 5,
   "metadata": {},
   "outputs": [
    {
     "name": "stdout",
     "output_type": "stream",
     "text": [
      "['20160507HD145704N052550M0107118_v2.9.8' '225.23436' '4.0696568'\n",
      " '../../lamost_dr7_qso/lamost_spectra/spec-57516-HD145704N052550M01_sp07-118.fits.gz']\n"
     ]
    }
   ],
   "source": [
    "data_path=np.array(data_path)\n",
    "data_save=np.array(data_save)\n",
    "test=[]\n",
    "for i in range(len(data_path)):\n",
    "    test.append(data_save[i,0])\n",
    "    test.append(data_save[i,1])\n",
    "    test.append(data_save[i,2])\n",
    "    test.append(data_path[i])  \n",
    "test=np.array(test)\n",
    "test=test.reshape(len(data_path),4) \n",
    "print(test[0])\n",
    "np.savetxt('01/qso_list.csv',test,fmt='%s')"
   ]
  },
  {
   "cell_type": "code",
   "execution_count": 14,
   "metadata": {},
   "outputs": [],
   "source": [
    "#光谱与图像进行匹配\n",
    "picture = pd.read_csv('../../lamost_dr7_qso_list.csv',delimiter=',')\n",
    "picture = np.array(picture)\n",
    "spectra = pd.read_csv('01/qso_list.csv',header=None,delimiter=' ')\n",
    "spectra = np.array(spectra)"
   ]
  },
  {
   "cell_type": "code",
   "execution_count": 19,
   "metadata": {},
   "outputs": [
    {
     "name": "stdout",
     "output_type": "stream",
     "text": [
      "42229\n"
     ]
    }
   ],
   "source": [
    "data_path=[]\n",
    "data_save=[]\n",
    "j=0\n",
    "#for i in range(len(data)):\n",
    "for i in range(len(picture)):\n",
    "    for z in range(len(spectra)):\n",
    "        if (picture[i][1]==spectra[z][1] and picture[i][2]==spectra[z][2]):      \n",
    "            data_path.append(spectra[z])\n",
    "            data_save.append(picture[i])\n",
    "            j=j+1\n",
    "print(j)"
   ]
  },
  {
   "cell_type": "code",
   "execution_count": 24,
   "metadata": {},
   "outputs": [
    {
     "name": "stdout",
     "output_type": "stream",
     "text": [
      "['lamost_dr7_qso' '188.44299999999998' '29.149877000000004'\n",
      " '004135-3-00276'\n",
      " '../../lamost_dr7_qso/lamost_spectra/spec-57754-HD122624N271605M02_sp12-193.fits.gz']\n"
     ]
    }
   ],
   "source": [
    "data_path=np.array(data_path)\n",
    "data_save=np.array(data_save)\n",
    "test=[]\n",
    "for i in range(len(data_path)):\n",
    "    test.append(data_save[i,0])\n",
    "    test.append(data_save[i,1])\n",
    "    test.append(data_save[i,2])\n",
    "    test.append(data_save[i,3])\n",
    "    test.append(data_path[i,3])  \n",
    "test=np.array(test)\n",
    "test=test.reshape(len(data_path),5) \n",
    "print(test[0])\n",
    "np.savetxt('01/qso.csv',test,fmt='%s')"
   ]
  },
  {
   "cell_type": "markdown",
   "metadata": {},
   "source": [
    "# star光谱图像"
   ]
  },
  {
   "cell_type": "code",
   "execution_count": 25,
   "metadata": {},
   "outputs": [],
   "source": [
    "dir=\"../../lamost_dr7_star/lamost_spectra/\"    #目录路径\n",
    "#获取当前目录下所有的文件路径\n",
    "AllPath = []\n",
    "for root,dirs,files in os.walk(dir):\n",
    "    for file in files:\n",
    "        #f.writelines(os.path.join(root,file)+\"\\n\")\n",
    "        if file != \".DS_Store\":\n",
    "            AllPath.append(os.path.join(root,file))\n",
    "            \n",
    "data=pd.read_csv('../../lamost_dr7_star.csv',delimiter='\\t')\n",
    "data=np.array(data)"
   ]
  },
  {
   "cell_type": "code",
   "execution_count": 26,
   "metadata": {},
   "outputs": [
    {
     "name": "stdout",
     "output_type": "stream",
     "text": [
      "4806\n"
     ]
    }
   ],
   "source": [
    "#光谱和坐标进行匹配\n",
    "data_path=[]\n",
    "data_save=[]\n",
    "\n",
    "j=0\n",
    "#for i in range(len(data)):\n",
    "for i in range(len(data)):\n",
    "    a = data[i,0][8:].split(\"_\")[0]\n",
    "    for z in range(len(AllPath)):\n",
    "        b = AllPath[z][47:].split(\".\")[0].replace('_sp', '').replace('-', '').replace('_', '')\n",
    "        if (a == b):            \n",
    "            test=fits.open(AllPath[z])\n",
    "            time=test[0].header['DATE-OBS']\n",
    "            head=time[0:4]+time[5:7]+time[8:10]\n",
    "\n",
    "            if (head == data[i,0][0:8]):                        \n",
    "                data_path.append(AllPath[z])\n",
    "                data_save.append(data[i])\n",
    "                j=j+1\n",
    "print(j)"
   ]
  },
  {
   "cell_type": "code",
   "execution_count": 27,
   "metadata": {},
   "outputs": [
    {
     "name": "stdout",
     "output_type": "stream",
     "text": [
      "['20140419HD175745N291452V0103077_v2.9.8' 'F0' '267.910927' '28.936305'\n",
      " '../../lamost_dr7_star/lamost_spectra/spec-56767-HD175745N291452V01_sp03-077.fits.gz']\n"
     ]
    }
   ],
   "source": [
    "data_path=np.array(data_path)\n",
    "data_save=np.array(data_save)\n",
    "test=[]\n",
    "for i in range(len(data_path)):\n",
    "    test.append(data_save[i,0])\n",
    "    test.append(data_save[i,1])\n",
    "    test.append(data_save[i,2])\n",
    "    test.append(data_save[i,3])\n",
    "    test.append(data_path[i])  \n",
    "test=np.array(test)\n",
    "test=test.reshape(len(data_path),5)\n",
    "print(test[0])\n",
    "np.savetxt('01/star_list.csv',test,fmt='%s')"
   ]
  },
  {
   "cell_type": "code",
   "execution_count": 28,
   "metadata": {},
   "outputs": [],
   "source": [
    "#光谱与图像进行匹配\n",
    "picture = pd.read_csv('../../lamost_dr7_star_list.csv',delimiter=',')\n",
    "picture = np.array(picture)\n",
    "spectra = pd.read_csv('01/star_list.csv',header=None,delimiter=' ')\n",
    "spectra = np.array(spectra)"
   ]
  },
  {
   "cell_type": "code",
   "execution_count": 32,
   "metadata": {},
   "outputs": [
    {
     "name": "stdout",
     "output_type": "stream",
     "text": [
      "28349\n"
     ]
    }
   ],
   "source": [
    "data_path=[]\n",
    "data_save=[]\n",
    "j=0\n",
    "#for i in range(len(data)):\n",
    "for i in range(len(picture)):\n",
    "    for z in range(len(spectra)):\n",
    "        if (picture[i][1]==spectra[z][2] and picture[i][2]==spectra[z][3]):      \n",
    "            data_path.append(spectra[z])\n",
    "            data_save.append(picture[i])\n",
    "            j=j+1\n",
    "print(j)"
   ]
  },
  {
   "cell_type": "code",
   "execution_count": 38,
   "metadata": {},
   "outputs": [
    {
     "name": "stdout",
     "output_type": "stream",
     "text": [
      "['lamost_dr7_star' '267.910927' '28.936304999999997' '004135-3-00277'\n",
      " '../../lamost_dr7_star/lamost_spectra/spec-56767-HD175745N291452V01_sp03-077.fits.gz']\n"
     ]
    }
   ],
   "source": [
    "data_path=np.array(data_path)\n",
    "data_save=np.array(data_save)\n",
    "test=[]\n",
    "for i in range(len(data_path)):\n",
    "    test.append(data_save[i,0])\n",
    "    test.append(data_save[i,1])\n",
    "    test.append(data_save[i,2])\n",
    "    test.append(data_save[i,3])\n",
    "    test.append(data_path[i,4])  \n",
    "test=np.array(test)\n",
    "test=test.reshape(len(data_path),5) \n",
    "print(test[0])\n",
    "np.savetxt('01/star.csv',test,fmt='%s')"
   ]
  }
 ],
 "metadata": {
  "kernelspec": {
   "display_name": "Python 3",
   "language": "python",
   "name": "python3"
  },
  "language_info": {
   "codemirror_mode": {
    "name": "ipython",
    "version": 3
   },
   "file_extension": ".py",
   "mimetype": "text/x-python",
   "name": "python",
   "nbconvert_exporter": "python",
   "pygments_lexer": "ipython3",
   "version": "3.6.9"
  }
 },
 "nbformat": 4,
 "nbformat_minor": 2
}
