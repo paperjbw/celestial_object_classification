{
 "cells": [
  {
   "cell_type": "code",
   "execution_count": 1,
   "metadata": {},
   "outputs": [
    {
     "name": "stderr",
     "output_type": "stream",
     "text": [
      "Using TensorFlow backend.\n"
     ]
    }
   ],
   "source": [
    "#引入必要的库文件\n",
    "from skimage import data,img_as_float\n",
    "import matplotlib.pyplot as plt\n",
    "import re\n",
    "import numpy as np\n",
    "from sklearn.model_selection import train_test_split\n",
    "import pandas as pd\n",
    "import os\n",
    "from keras import utils as np_utils\n",
    "os.environ[\"KERAS_BACKEND\"] = \"tensorflow\"\n",
    "os.environ['CUDA_VISIBLE_DEVICES']='1'"
   ]
  },
  {
   "cell_type": "code",
   "execution_count": 2,
   "metadata": {},
   "outputs": [],
   "source": [
    "#引入搭建网络的库\n",
    "from tensorflow.python.keras.layers import *\n",
    "from tensorflow.python.keras.models import Model, Sequential\n",
    "from tensorflow.python.keras.layers.core import Dense, Dropout\n",
    "from tensorflow.python.keras.layers.advanced_activations import LeakyReLU\n",
    "from tensorflow.python.keras.optimizers import Adam\n",
    "from tensorflow.python.keras import initializers"
   ]
  },
  {
   "cell_type": "code",
   "execution_count": 3,
   "metadata": {
    "collapsed": true
   },
   "outputs": [
    {
     "name": "stdout",
     "output_type": "stream",
     "text": [
      "WARNING:tensorflow:From /home/zouzq/.local/lib/python3.6/site-packages/tensorflow/python/ops/init_ops.py:1251: calling VarianceScaling.__init__ (from tensorflow.python.ops.init_ops) with dtype is deprecated and will be removed in a future version.\n",
      "Instructions for updating:\n",
      "Call initializer instance with the dtype argument instead of passing it to the constructor\n"
     ]
    }
   ],
   "source": [
    "model=Sequential()\n",
    "model.add(Reshape((14,14,1),input_shape=(14,14)))\n",
    "model.add(Conv2D(16,(2,2),activation='relu',padding='SAME'))\n",
    "model.add(MaxPooling2D(2,2))\n",
    "model.add(Conv2D(32,(2,2),activation='relu',padding='SAME'))\n",
    "model.add(MaxPooling2D(2,2))\n",
    "model.add(Conv2D(64,(2,2),activation='relu'))\n",
    "model.add(Flatten())\n",
    "model.add(Dense(128,activation='relu'))\n",
    "model.add(Dense(2,activation='sigmoid'))"
   ]
  },
  {
   "cell_type": "code",
   "execution_count": 3,
   "metadata": {},
   "outputs": [],
   "source": [
    "#查看存储的文件\n",
    "data128=pd.read_csv('04/gen_data128.csv',header=None)\n",
    "data128=np.array(data128)\n",
    "label=pd.read_csv('03/label.csv',header=None)\n",
    "label=np.array(label)\n",
    "\n",
    "#读取14*14图像数据\n",
    "data_qso_u=np.load('02/qso_u_img.npy')\n",
    "data_qso_u=np.array(data_qso_u)\n",
    "data_star_u=np.load('02/star_u_img.npy')\n",
    "data_star_u=np.array(data_star_u)\n",
    "\n",
    "data_qso_g=np.load('02/qso_u_img.npy')\n",
    "data_qso_g=np.array(data_qso_u)\n",
    "data_star_g=np.load('02/star_u_img.npy')\n",
    "data_star_g=np.array(data_star_u)\n",
    "\n",
    "data_qso_r=np.load('02/qso_r_img.npy')\n",
    "data_qso_r=np.array(data_qso_r)\n",
    "data_star_r=np.load('02/star_r_img.npy')\n",
    "data_star_r=np.array(data_star_r)\n",
    "\n",
    "# data_qso=np.array(data_qso)\n",
    "# data_star=np.array(data_star)\n",
    "# data_all=np.concatenate((data_qso,data_star),axis=0)"
   ]
  },
  {
   "cell_type": "code",
   "execution_count": 52,
   "metadata": {
    "collapsed": true
   },
   "outputs": [
    {
     "name": "stdout",
     "output_type": "stream",
     "text": [
      "[0.9794333  0.02324101 0.96885365 0.97616446 0.96473289 0.02388754\n",
      " 0.97022498 0.03326529 0.02133352 0.02506563 0.98578823 0.9961431\n",
      " 0.98717552 0.02007636 0.04356444 0.98117423 0.0336833  0.02149111\n",
      " 0.97797972 0.99599671 0.96961224 0.97798848 0.01010996 0.02343041\n",
      " 0.023141   0.00145686 0.02695763 0.0240593  0.98826426 0.02218646\n",
      " 0.0154326  0.00390238 0.01842225 0.9583528  0.95775867 0.99348176\n",
      " 0.03729209 0.02653545 0.01509658 0.02333081 0.01439545 0.97780287\n",
      " 0.01880732 0.0215098  0.97108722 0.97602135 0.0163722  0.98012447\n",
      " 0.01658717 0.98876619 0.98486483 0.97727013 0.99378556 0.02709481\n",
      " 0.97466493 0.98416698 0.97615981 0.99158132 0.02098498 0.02151608\n",
      " 0.9786945  0.99140334 0.0319356  0.97732365 0.01790419 0.9863019\n",
      " 0.02010596 0.99176085 0.98700243 0.01641273 0.0206019  0.99355066\n",
      " 0.03044811 0.99041653 0.00493991 0.98564541 0.97697508 0.03409651\n",
      " 0.01821598 0.0109016  0.99389017 0.98260611 0.02740905 0.96089232\n",
      " 0.01774308 0.97812217 0.97666514 0.02149981 0.98633081 0.98335505\n",
      " 0.9752965  0.00455534 0.02184635 0.98429722 0.02958938 0.01037753\n",
      " 0.98428971 0.02837175 0.98172438 0.01865646 0.01685262 0.00966033\n",
      " 0.98780328 0.98950124 0.96570963 0.98859501 0.01322073 0.98181057\n",
      " 0.97794271 0.99017632 0.9734363  0.98690367 0.98281968 0.02205688\n",
      " 0.00751662 0.01023719 0.01886883 0.00581953 0.02878943 0.99134994\n",
      " 0.97183669 0.973023   0.98006463 0.02159607 0.98020613 0.98971796\n",
      " 0.97588158 0.01567537]\n"
     ]
    }
   ],
   "source": [
    "print(data128[0])"
   ]
  },
  {
   "cell_type": "code",
   "execution_count": 4,
   "metadata": {},
   "outputs": [
    {
     "name": "stdout",
     "output_type": "stream",
     "text": [
      "(16463, 14, 14, 3)\n",
      "(8255, 14, 14, 3)\n",
      "(24718, 14, 14, 3)\n"
     ]
    }
   ],
   "source": [
    "data_qso=[]\n",
    "for i in range(len(data_qso_u)):\n",
    "    data_qso.append(data_qso_u[i])\n",
    "    data_qso.append(data_qso_g[i])\n",
    "    data_qso.append(data_qso_r[i])\n",
    "data_qso=np.array(data_qso)\n",
    "data_qso=data_qso.reshape((len(data_qso_u),14,14,3))\n",
    "print(data_qso.shape)\n",
    "# print(data_qso[0])\n",
    "\n",
    "data_star=[]\n",
    "for i in range(len(data_star_u)):\n",
    "    data_star.append(data_star_u[i])\n",
    "    data_star.append(data_star_g[i])\n",
    "    data_star.append(data_star_r[i])\n",
    "data_star=np.array(data_star)\n",
    "data_star=data_star.reshape((len(data_star_u),14,14,3))\n",
    "print(data_star.shape)\n",
    "\n",
    "data_all=np.concatenate((data_qso,data_star),axis=0)\n",
    "print(data_all.shape)"
   ]
  },
  {
   "cell_type": "code",
   "execution_count": 5,
   "metadata": {},
   "outputs": [],
   "source": [
    "#数据归一化\n",
    "def nom_flow(data):              \n",
    "    for i in range(data.shape[0]):\n",
    "            data[i]=(data[i]-data[i].min())/(data[i].max()-data.min())                     \n",
    "nom_flow(data_all)"
   ]
  },
  {
   "cell_type": "code",
   "execution_count": 26,
   "metadata": {
    "collapsed": true
   },
   "outputs": [
    {
     "data": {
      "image/png": "[encoded data removed]",
      "text/plain": [
       "<Figure size 432x288 with 1 Axes>"
      ]
     },
     "metadata": {
      "needs_background": "light"
     },
     "output_type": "display_data"
    },
    {
     "data": {
      "image/png": "[encoded data removed]",
      "text/plain": [
       "<Figure size 432x288 with 1 Axes>"
      ]
     },
     "metadata": {
      "needs_background": "light"
     },
     "output_type": "display_data"
    },
    {
     "data": {
      "image/png": "[encoded data removed]",
      "text/plain": [
       "<Figure size 432x288 with 1 Axes>"
      ]
     },
     "metadata": {
      "needs_background": "light"
     },
     "output_type": "display_data"
    },
    {
     "data": {
      "image/png": "[encoded data removed]",
      "text/plain": [
       "<Figure size 432x288 with 1 Axes>"
      ]
     },
     "metadata": {
      "needs_background": "light"
     },
     "output_type": "display_data"
    },
    {
     "data": {
      "image/png": "[encoded data removed]",
      "text/plain": [
       "<Figure size 432x288 with 1 Axes>"
      ]
     },
     "metadata": {
      "needs_background": "light"
     },
     "output_type": "display_data"
    }
   ],
   "source": [
    "for i in range(5):\n",
    "    plt.imshow(data_star[i])\n",
    "    plt.show()"
   ]
  },
  {
   "cell_type": "code",
   "execution_count": 46,
   "metadata": {},
   "outputs": [
    {
     "name": "stdout",
     "output_type": "stream",
     "text": [
      "(24718, 128)\n",
      "(24718, 14, 14, 3)\n",
      "[1.]\n"
     ]
    }
   ],
   "source": [
    "print(data128.shape)\n",
    "print(data_all.shape)\n",
    "print(label[1])"
   ]
  },
  {
   "cell_type": "code",
   "execution_count": 6,
   "metadata": {},
   "outputs": [],
   "source": [
    "#分割数据集\n",
    "import sklearn.model_selection\n",
    "from sklearn.model_selection import train_test_split\n",
    "y = label\n",
    "y= np_utils.to_categorical(y)\n",
    "X_train, X_test, y_train, y_test = train_test_split(data128, y,test_size = 0.4,random_state=5)\n",
    "X_train1, X_test1, y_train1, y_test1 = train_test_split(data_all, y,test_size = 0.4,random_state=5)"
   ]
  },
  {
   "cell_type": "code",
   "execution_count": 7,
   "metadata": {},
   "outputs": [
    {
     "name": "stdout",
     "output_type": "stream",
     "text": [
      "WARNING:tensorflow:From /home/zouzq/.local/lib/python3.6/site-packages/tensorflow/python/ops/init_ops.py:1251: calling VarianceScaling.__init__ (from tensorflow.python.ops.init_ops) with dtype is deprecated and will be removed in a future version.\n",
      "Instructions for updating:\n",
      "Call initializer instance with the dtype argument instead of passing it to the constructor\n",
      "Model: \"model\"\n",
      "__________________________________________________________________________________________________\n",
      "Layer (type)                    Output Shape         Param #     Connected to                     \n",
      "==================================================================================================\n",
      "main_inputs (InputLayer)        [(None, 14, 14, 3)]  0                                            \n",
      "__________________________________________________________________________________________________\n",
      "reshape (Reshape)               (None, 14, 14, 3)    0           main_inputs[0][0]                \n",
      "__________________________________________________________________________________________________\n",
      "conv2d (Conv2D)                 (None, 14, 14, 16)   208         reshape[0][0]                    \n",
      "__________________________________________________________________________________________________\n",
      "max_pooling2d (MaxPooling2D)    (None, 7, 7, 16)     0           conv2d[0][0]                     \n",
      "__________________________________________________________________________________________________\n",
      "conv2d_1 (Conv2D)               (None, 7, 7, 32)     2080        max_pooling2d[0][0]              \n",
      "__________________________________________________________________________________________________\n",
      "max_pooling2d_1 (MaxPooling2D)  (None, 3, 3, 32)     0           conv2d_1[0][0]                   \n",
      "__________________________________________________________________________________________________\n",
      "conv2d_2 (Conv2D)               (None, 3, 3, 64)     8256        max_pooling2d_1[0][0]            \n",
      "__________________________________________________________________________________________________\n",
      "max_pooling2d_2 (MaxPooling2D)  (None, 1, 1, 64)     0           conv2d_2[0][0]                   \n",
      "__________________________________________________________________________________________________\n",
      "auxiliary_input (InputLayer)    [(None, 128)]        0                                            \n",
      "__________________________________________________________________________________________________\n",
      "flatten_1 (Flatten)             (None, 64)           0           max_pooling2d_2[0][0]            \n",
      "__________________________________________________________________________________________________\n",
      "dense (Dense)                   (None, 128)          16512       auxiliary_input[0][0]            \n",
      "__________________________________________________________________________________________________\n",
      "dense_4 (Dense)                 (None, 128)          8320        flatten_1[0][0]                  \n",
      "__________________________________________________________________________________________________\n",
      "concatenate (Concatenate)       (None, 256)          0           dense[0][0]                      \n",
      "                                                                 dense_4[0][0]                    \n",
      "__________________________________________________________________________________________________\n",
      "dense_5 (Dense)                 (None, 64)           16448       concatenate[0][0]                \n",
      "__________________________________________________________________________________________________\n",
      "dropout_3 (Dropout)             (None, 64)           0           dense_5[0][0]                    \n",
      "__________________________________________________________________________________________________\n",
      "dense_6 (Dense)                 (None, 2)            130         dropout_3[0][0]                  \n",
      "==================================================================================================\n",
      "Total params: 51,954\n",
      "Trainable params: 51,954\n",
      "Non-trainable params: 0\n",
      "__________________________________________________________________________________________________\n",
      "None\n"
     ]
    }
   ],
   "source": [
    "#实验加入光谱的图像分类模型\n",
    "input_dims = 128 \n",
    "auxiliary_input = Input(shape=(input_dims,),name='auxiliary_input')\n",
    "main_inputs=Input(shape=(14,14,3),name='main_inputs')\n",
    "'''\n",
    "attention_probs = Dense(input_dims, activation='softmax', name='attention_probs')(inputs)\n",
    "attention_mul = merge([inputs, attention_probs], output_shape=32, name='attention_mul', mode='mul')\n",
    "'''\n",
    "#x=concatenate([main_inputs,auxiliary_input])\n",
    "#reshape = Reshape((128, 1), input_shape=(128,))(main_inputs)                         \n",
    "dense1 =Dense(128,activation='relu')(auxiliary_input)\n",
    "dropout1=Dropout(0.4)(dense1)\n",
    "dense2 =Dense(64,activation='relu')(dropout1)\n",
    "dropout2=Dropout(0.4)(dense1)\n",
    "dense3 =Dense(32,activation='relu')(dropout2)\n",
    "dropout3=Dropout(0.4)(dense1)\n",
    "flatten =Flatten()(dropout3)\n",
    "dense4 = Dense(16, activation='relu')(flatten)\n",
    "\n",
    "res=Reshape((14,14,3))(main_inputs)\n",
    "conv1=Conv2D(16,(2,2),activation='relu',padding='SAME')(res)\n",
    "pool1=MaxPooling2D(2,2)(conv1)\n",
    "conv2=Conv2D(32,(2,2),activation='relu',padding='SAME')(pool1)\n",
    "pool2=MaxPooling2D(2,2)(conv2)\n",
    "conv3=Conv2D(64,(2,2),activation='relu',padding='SAME')(pool2)\n",
    "pool3=MaxPooling2D(2,2)(conv3)\n",
    "picture=Flatten()(pool3)\n",
    "pic256=Dense(128,activation='relu')(picture)\n",
    "\n",
    "x=concatenate([dense1,pic256])\n",
    "dense5 = Dense(64, activation='relu')(x)\n",
    "dropout5 = Dropout(0.5)(dense5)\n",
    "dense6 = Dense(2,activation = 'softmax')(dropout5)\n",
    "model2 = Model(inputs = [auxiliary_input,main_inputs],outputs = dense6)\n",
    "print(model2.summary())"
   ]
  },
  {
   "cell_type": "code",
   "execution_count": 36,
   "metadata": {},
   "outputs": [],
   "source": [
    "import tensorflow as tf\n",
    "#精确率评价指标\n",
    "def metric_precision(y_true,y_pred): \n",
    " TP=tf.reduce_sum(y_true*tf.round(y_pred))\n",
    " TN=tf.reduce_sum((1-y_true)*(1-tf.round(y_pred)))\n",
    " FP=tf.reduce_sum((1-y_true)*tf.round(y_pred))\n",
    " FN=tf.reduce_sum(y_true*(1-tf.round(y_pred)))\n",
    " precision=TP/(TP+FP)\n",
    " return precision\n",
    " \n",
    "#召回率评价指标\n",
    "def metric_recall(y_true,y_pred): \n",
    " TP=tf.reduce_sum(y_true*tf.round(y_pred))\n",
    " TN=tf.reduce_sum((1-y_true)*(1-tf.round(y_pred)))\n",
    " FP=tf.reduce_sum((1-y_true)*tf.round(y_pred))\n",
    " FN=tf.reduce_sum(y_true*(1-tf.round(y_pred)))\n",
    " recall=TP/(TP+FN)\n",
    " return recall\n",
    " \n",
    "#F1-score评价指标\n",
    "def metric_F1score(y_true,y_pred): \n",
    " TP=tf.reduce_sum(y_true*tf.round(y_pred))\n",
    " TN=tf.reduce_sum((1-y_true)*(1-tf.round(y_pred)))\n",
    " FP=tf.reduce_sum((1-y_true)*tf.round(y_pred))\n",
    " FN=tf.reduce_sum(y_true*(1-tf.round(y_pred)))\n",
    " precision=TP/(TP+FP)\n",
    " recall=TP/(TP+FN)\n",
    " F1score=2*precision*recall/(precision+recall)\n",
    " return F1score\n",
    " \n",
    "# #编译阶段引用自定义评价指标示例\n",
    "# model.compile(optimizer='adam',\n",
    "#      loss='binary_crossentropy',\n",
    "#      metrics=['accuracy',\n",
    "#             metric_precision,\n",
    "#             metric_recall,\n",
    "#             metric_F1score])"
   ]
  },
  {
   "cell_type": "code",
   "execution_count": 26,
   "metadata": {},
   "outputs": [],
   "source": [
    "#加载keras模块\n",
    "from __future__ import print_function\n",
    "import numpy as np\n",
    "np.random.seed(1337)  # for reproducibility\n",
    "\n",
    "import keras\n",
    "from keras.datasets import mnist\n",
    "from keras.models import Sequential\n",
    "from keras.layers.core import Dense, Dropout, Activation\n",
    "from keras.optimizers import SGD, Adam, RMSprop\n",
    "from keras.utils import np_utils\n",
    "import matplotlib.pyplot as plt\n",
    "%matplotlib inline\n",
    "\n",
    "#写一个LossHistory类，保存loss和acc\n",
    "class LossHistory(keras.callbacks.Callback):\n",
    "    def on_train_begin(self, logs={}):\n",
    "        self.losses = {'batch':[], 'epoch':[]}\n",
    "        self.accuracy = {'batch':[], 'epoch':[]}\n",
    "        self.val_loss = {'batch':[], 'epoch':[]}\n",
    "        self.val_acc = {'batch':[], 'epoch':[]}\n",
    "\n",
    "    def on_batch_end(self, batch, logs={}):\n",
    "        self.losses['batch'].append(logs.get('loss'))\n",
    "        self.accuracy['batch'].append(logs.get('acc'))\n",
    "        self.val_loss['batch'].append(logs.get('val_loss'))\n",
    "        self.val_acc['batch'].append(logs.get('val_acc'))\n",
    "\n",
    "    def on_epoch_end(self, batch, logs={}):\n",
    "        self.losses['epoch'].append(logs.get('loss'))\n",
    "        self.accuracy['epoch'].append(logs.get('acc'))\n",
    "        self.val_loss['epoch'].append(logs.get('val_loss'))\n",
    "        self.val_acc['epoch'].append(logs.get('val_acc'))\n",
    "\n",
    "    def loss_plot(self, loss_type):\n",
    "        iters = range(len(self.losses[loss_type]))\n",
    "        plt.figure()\n",
    "        # acc\n",
    "        plt.plot(iters, self.accuracy[loss_type], 'r^-',markersize=3.5, label='train acc')\n",
    "        # loss\n",
    "        plt.plot(iters, self.losses[loss_type], 'go--',markersize=3.5, label='train loss')\n",
    "        if loss_type == 'epoch':\n",
    "            # val_acc\n",
    "            plt.plot(iters, self.val_acc[loss_type], 'bx-.',markersize=3.5, label='val acc')\n",
    "            # val_loss\n",
    "            plt.plot(iters, self.val_loss[loss_type], 'ks:',markersize=3.5, label='val loss')\n",
    "        plt.grid(True)\n",
    "        plt.xlabel(loss_type)\n",
    "        plt.ylabel('acc-loss')\n",
    "        plt.legend(loc=\"upper right\",bbox_to_anchor=(1.28, 1))\n",
    "        plt.show()\n",
    "history = LossHistory()"
   ]
  },
  {
   "cell_type": "code",
   "execution_count": 34,
   "metadata": {},
   "outputs": [
    {
     "name": "stdout",
     "output_type": "stream",
     "text": [
      "Train on 14830 samples, validate on 9888 samples\n",
      "Epoch 1/20\n",
      "14830/14830 [==============================] - 1s 74us/sample - loss: 0.0363 - acc: 0.9885 - metric_precision: 0.9885 - metric_recall: 0.9885 - metric_F1score: 0.9885 - val_loss: 0.0842 - val_acc: 0.9769 - val_metric_precision: 0.9770 - val_metric_recall: 0.9770 - val_metric_F1score: 0.9770\n",
      "Epoch 2/20\n",
      "14830/14830 [==============================] - 0s 33us/sample - loss: 0.0356 - acc: 0.9887 - metric_precision: 0.9888 - metric_recall: 0.9888 - metric_F1score: 0.9888 - val_loss: 0.0869 - val_acc: 0.9759 - val_metric_precision: 0.9759 - val_metric_recall: 0.9759 - val_metric_F1score: 0.9759\n",
      "Epoch 3/20\n",
      "14830/14830 [==============================] - 0s 33us/sample - loss: 0.0378 - acc: 0.9879 - metric_precision: 0.9879 - metric_recall: 0.9879 - metric_F1score: 0.9879 - val_loss: 0.0854 - val_acc: 0.9778 - val_metric_precision: 0.9778 - val_metric_recall: 0.9778 - val_metric_F1score: 0.9778\n",
      "Epoch 4/20\n",
      "14830/14830 [==============================] - 0s 33us/sample - loss: 0.0351 - acc: 0.9887 - metric_precision: 0.9886 - metric_recall: 0.9886 - metric_F1score: 0.9886 - val_loss: 0.0879 - val_acc: 0.9769 - val_metric_precision: 0.9768 - val_metric_recall: 0.9768 - val_metric_F1score: 0.9768\n",
      "Epoch 5/20\n",
      "14830/14830 [==============================] - 0s 33us/sample - loss: 0.0356 - acc: 0.9882 - metric_precision: 0.9882 - metric_recall: 0.9882 - metric_F1score: 0.9882 - val_loss: 0.0889 - val_acc: 0.9757 - val_metric_precision: 0.9758 - val_metric_recall: 0.9758 - val_metric_F1score: 0.9758\n",
      "Epoch 6/20\n",
      "14830/14830 [==============================] - 0s 33us/sample - loss: 0.0349 - acc: 0.9885 - metric_precision: 0.9885 - metric_recall: 0.9885 - metric_F1score: 0.9885 - val_loss: 0.0891 - val_acc: 0.9769 - val_metric_precision: 0.9770 - val_metric_recall: 0.9770 - val_metric_F1score: 0.9770\n",
      "Epoch 7/20\n",
      "14830/14830 [==============================] - 0s 33us/sample - loss: 0.0346 - acc: 0.9888 - metric_precision: 0.9888 - metric_recall: 0.9888 - metric_F1score: 0.9888 - val_loss: 0.0922 - val_acc: 0.9756 - val_metric_precision: 0.9757 - val_metric_recall: 0.9757 - val_metric_F1score: 0.9757\n",
      "Epoch 8/20\n",
      "14830/14830 [==============================] - 0s 33us/sample - loss: 0.0356 - acc: 0.9879 - metric_precision: 0.9879 - metric_recall: 0.9879 - metric_F1score: 0.9879 - val_loss: 0.0892 - val_acc: 0.9764 - val_metric_precision: 0.9765 - val_metric_recall: 0.9765 - val_metric_F1score: 0.9765\n",
      "Epoch 9/20\n",
      "14830/14830 [==============================] - 0s 33us/sample - loss: 0.0381 - acc: 0.9877 - metric_precision: 0.9877 - metric_recall: 0.9877 - metric_F1score: 0.9877 - val_loss: 0.0858 - val_acc: 0.9774 - val_metric_precision: 0.9774 - val_metric_recall: 0.9774 - val_metric_F1score: 0.9774\n",
      "Epoch 10/20\n",
      "14830/14830 [==============================] - 0s 33us/sample - loss: 0.0348 - acc: 0.9883 - metric_precision: 0.9883 - metric_recall: 0.9883 - metric_F1score: 0.9883 - val_loss: 0.0872 - val_acc: 0.9770 - val_metric_precision: 0.9771 - val_metric_recall: 0.9771 - val_metric_F1score: 0.9771\n",
      "Epoch 11/20\n",
      "14830/14830 [==============================] - 0s 33us/sample - loss: 0.0353 - acc: 0.9889 - metric_precision: 0.9889 - metric_recall: 0.9889 - metric_F1score: 0.9889 - val_loss: 0.0889 - val_acc: 0.9768 - val_metric_precision: 0.9770 - val_metric_recall: 0.9770 - val_metric_F1score: 0.9770\n",
      "Epoch 12/20\n",
      "14830/14830 [==============================] - 0s 33us/sample - loss: 0.0345 - acc: 0.9887 - metric_precision: 0.9887 - metric_recall: 0.9887 - metric_F1score: 0.9887 - val_loss: 0.0892 - val_acc: 0.9757 - val_metric_precision: 0.9757 - val_metric_recall: 0.9757 - val_metric_F1score: 0.9757\n",
      "Epoch 13/20\n",
      "14830/14830 [==============================] - 0s 33us/sample - loss: 0.0357 - acc: 0.9886 - metric_precision: 0.9886 - metric_recall: 0.9886 - metric_F1score: 0.9886 - val_loss: 0.0868 - val_acc: 0.9774 - val_metric_precision: 0.9773 - val_metric_recall: 0.9773 - val_metric_F1score: 0.9773\n",
      "Epoch 14/20\n",
      "14830/14830 [==============================] - 0s 33us/sample - loss: 0.0366 - acc: 0.9883 - metric_precision: 0.9883 - metric_recall: 0.9883 - metric_F1score: 0.9883 - val_loss: 0.0891 - val_acc: 0.9752 - val_metric_precision: 0.9751 - val_metric_recall: 0.9751 - val_metric_F1score: 0.9751\n",
      "Epoch 15/20\n",
      "14830/14830 [==============================] - 0s 33us/sample - loss: 0.0345 - acc: 0.9891 - metric_precision: 0.9891 - metric_recall: 0.9891 - metric_F1score: 0.9891 - val_loss: 0.0879 - val_acc: 0.9772 - val_metric_precision: 0.9773 - val_metric_recall: 0.9773 - val_metric_F1score: 0.9773\n",
      "Epoch 16/20\n",
      "14830/14830 [==============================] - 1s 34us/sample - loss: 0.0354 - acc: 0.9884 - metric_precision: 0.9884 - metric_recall: 0.9884 - metric_F1score: 0.9884 - val_loss: 0.0893 - val_acc: 0.9767 - val_metric_precision: 0.9769 - val_metric_recall: 0.9769 - val_metric_F1score: 0.9769\n",
      "Epoch 17/20\n",
      "14830/14830 [==============================] - 0s 33us/sample - loss: 0.0349 - acc: 0.9885 - metric_precision: 0.9885 - metric_recall: 0.9885 - metric_F1score: 0.9885 - val_loss: 0.0910 - val_acc: 0.9755 - val_metric_precision: 0.9758 - val_metric_recall: 0.9758 - val_metric_F1score: 0.9758\n",
      "Epoch 18/20\n",
      "14830/14830 [==============================] - 1s 35us/sample - loss: 0.0360 - acc: 0.9872 - metric_precision: 0.9872 - metric_recall: 0.9872 - metric_F1score: 0.9872 - val_loss: 0.0944 - val_acc: 0.9752 - val_metric_precision: 0.9751 - val_metric_recall: 0.9751 - val_metric_F1score: 0.9751\n",
      "Epoch 19/20\n",
      "14830/14830 [==============================] - 0s 34us/sample - loss: 0.0381 - acc: 0.9879 - metric_precision: 0.9879 - metric_recall: 0.9879 - metric_F1score: 0.9879 - val_loss: 0.0867 - val_acc: 0.9769 - val_metric_precision: 0.9771 - val_metric_recall: 0.9771 - val_metric_F1score: 0.9771\n",
      "Epoch 20/20\n",
      "14830/14830 [==============================] - 0s 33us/sample - loss: 0.0347 - acc: 0.9893 - metric_precision: 0.9893 - metric_recall: 0.9893 - metric_F1score: 0.9893 - val_loss: 0.0882 - val_acc: 0.9770 - val_metric_precision: 0.9770 - val_metric_recall: 0.9770 - val_metric_F1score: 0.9770\n"
     ]
    }
   ],
   "source": [
    "#配置模型\n",
    "from tensorflow.keras.callbacks import EarlyStopping, CSVLogger, ModelCheckpoint\n",
    "from tensorflow.keras.optimizers import *\n",
    "callbacks = [EarlyStopping(patience=3), CSVLogger('05/cnn.csv', append=True), \n",
    "             ModelCheckpoint('05/Restesst2.h5', save_best_only=True, save_weight_only = False)]\n",
    "model2.compile(loss='categorical_crossentropy',\n",
    "              optimizer=Adam(1e-4, amsgrad=True), \n",
    "              metrics=['accuracy',metric_precision,metric_recall,metric_F1score])\n",
    "hist = model2.fit([X_train,X_train1],y_train, epochs=20,validation_data = ([X_test,X_test1],y_test), workers=4, use_multiprocessing=True,\n",
    "                      batch_size = 256,\n",
    "                    callbacks=[history])"
   ]
  },
  {
   "cell_type": "code",
   "execution_count": 35,
   "metadata": {},
   "outputs": [
    {
     "name": "stdout",
     "output_type": "stream",
     "text": [
      "Test score: 0.08822333408613059\n",
      "Test accuracy: 0.97704285\n"
     ]
    },
    {
     "data": {
      "image/png": "[encoded data removed]",
      "text/plain": [
       "<Figure size 432x288 with 1 Axes>"
      ]
     },
     "metadata": {
      "needs_background": "light"
     },
     "output_type": "display_data"
    }
   ],
   "source": [
    "#模型评估\n",
    "score = model2.evaluate([X_test,X_test1], y_test, verbose=0)\n",
    "print('Test score:', score[0])\n",
    "print('Test accuracy:', score[1])\n",
    "#绘制acc-loss曲线\n",
    "history.loss_plot('epoch')"
   ]
  }
 ],
 "metadata": {
  "kernelspec": {
   "display_name": "Python 3",
   "language": "python",
   "name": "python3"
  },
  "language_info": {
   "codemirror_mode": {
    "name": "ipython",
    "version": 3
   },
   "file_extension": ".py",
   "mimetype": "text/x-python",
   "name": "python",
   "nbconvert_exporter": "python",
   "pygments_lexer": "ipython3",
   "version": "3.6.9"
  }
 },
 "nbformat": 4,
 "nbformat_minor": 2
}
