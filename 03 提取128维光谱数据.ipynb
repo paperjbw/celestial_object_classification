{
 "cells": [
  {
   "cell_type": "code",
   "execution_count": 1,
   "metadata": {},
   "outputs": [],
   "source": [
    "#头文件输入\n",
    "import matplotlib.pyplot as plt\n",
    "import re\n",
    "import numpy as np\n",
    "from sklearn.model_selection import train_test_split\n",
    "from astropy.io import fits\n",
    "from astropy.wcs import WCS\n",
    "from astropy.coordinates import SkyCoord  # High-level coordinates\n",
    "from astropy.coordinates import ICRS, Galactic, FK4, FK5  # Low-level frames\n",
    "from astropy.coordinates import Angle, Latitude, Longitude  # Angles\n",
    "import astropy.units as u \n",
    "import pandas as pd\n",
    "import os\n",
    "import sklearn.model_selection\n",
    "from sklearn.model_selection import train_test_split\n",
    "from tensorflow.python.keras.utils import np_utils\n",
    "os.environ[\"KERAS_BACKEND\"] = \"tensorflow\"\n",
    "os.environ['CUDA_VISIBLE_DEVICES']='1'"
   ]
  },
  {
   "cell_type": "code",
   "execution_count": 2,
   "metadata": {},
   "outputs": [
    {
     "name": "stdout",
     "output_type": "stream",
     "text": [
      "['lamost_dr7_qso' 184.31142 36.727183000000004 '004392-2-00229'\n",
      " '../../lamost_dr7_qso/lamost_spectra/spec-58515-HD122712N362227M02_sp14-185.fits.gz']\n",
      "['lamost_dr7_star' 115.51811000000001 22.676773999999998 '002887-4-00032'\n",
      " '../../lamost_dr7_star/lamost_spectra/spec-57005-GAC116N20B2_sp11-172.fits.gz']\n"
     ]
    }
   ],
   "source": [
    "#获取光谱数据\n",
    "path_qso=pd.read_csv('02/qso.csv',header=None,delimiter=' ')\n",
    "path_star=pd.read_csv('02/star.csv',header=None,delimiter=' ')\n",
    "path_qso=np.array(path_qso)\n",
    "path_star=np.array(path_star)\n",
    "print(path_qso[1])\n",
    "print(path_star[1])"
   ]
  },
  {
   "cell_type": "code",
   "execution_count": 3,
   "metadata": {},
   "outputs": [],
   "source": [
    "data=fits.open(path_qso[0][4],ignore_missing_end=True)"
   ]
  },
  {
   "cell_type": "code",
   "execution_count": 4,
   "metadata": {},
   "outputs": [
    {
     "name": "stdout",
     "output_type": "stream",
     "text": [
      "16463\n"
     ]
    }
   ],
   "source": [
    "#保存类星体的光谱数据\n",
    "data_qso = np.zeros((len(path_qso),3700))\n",
    "#防止有的文件不存在。\n",
    "j=0\n",
    "\n",
    "for i in range(len(path_qso)):\n",
    "    data=fits.open(path_qso[i][4],ignore_missing_end=True)\n",
    "    data_qso[i][:]=data[0].data[0][0:3700]\n",
    "    j=j+1\n",
    "print(j)"
   ]
  },
  {
   "cell_type": "code",
   "execution_count": 5,
   "metadata": {},
   "outputs": [
    {
     "name": "stdout",
     "output_type": "stream",
     "text": [
      "8255\n"
     ]
    }
   ],
   "source": [
    "#保存恒星的光谱数据\n",
    "data_star = np.zeros((len(path_star),3700))\n",
    "#防止有的文件不存在。\n",
    "j=0\n",
    "\n",
    "for i in range(len(path_star)):\n",
    "    data=fits.open(path_star[i][4],ignore_missing_end=True)\n",
    "    data_star[i][:]=data[0].data[0][0:3700]\n",
    "    j=j+1\n",
    "print(j)"
   ]
  },
  {
   "cell_type": "code",
   "execution_count": 6,
   "metadata": {},
   "outputs": [],
   "source": [
    "#对数据进行归一化\n",
    "import math\n",
    "feature=3700\n",
    "\n",
    "def nom_flow(data):             \n",
    "    for i in range(data.shape[0]):\n",
    "        sum=0\n",
    "        for j in range(feature):\n",
    "            sum=sum+data[i,j]**2\n",
    "        for j in range(feature):\n",
    "            data[i,j]=data[i,j]/math.sqrt(sum)\n",
    "nom_flow(data_qso)\n",
    "nom_flow(data_star)"
   ]
  },
  {
   "cell_type": "code",
   "execution_count": 7,
   "metadata": {},
   "outputs": [],
   "source": [
    "#设置标签\n",
    "label=[]\n",
    "\n",
    "#qso标签\n",
    "for i in range(len(data_qso)):\n",
    "    label.append(1)\n",
    "\n",
    "#star标签\n",
    "for i in range(len(data_star)):\n",
    "    label.append(0)\n",
    "\n",
    "label=np.array(label)\n",
    "data=np.concatenate((data_qso,data_star),axis=0)\n",
    "np.savetxt('03/data.csv',data,fmt='%.18f')\n",
    "np.savetxt('03/label.csv',label,fmt='%.18f')"
   ]
  },
  {
   "cell_type": "code",
   "execution_count": 8,
   "metadata": {},
   "outputs": [
    {
     "data": {
      "text/plain": [
       "(24718,)"
      ]
     },
     "execution_count": 8,
     "metadata": {},
     "output_type": "execute_result"
    }
   ],
   "source": [
    "label.shape"
   ]
  },
  {
   "cell_type": "code",
   "execution_count": 9,
   "metadata": {},
   "outputs": [
    {
     "name": "stdout",
     "output_type": "stream",
     "text": [
      "24718\n"
     ]
    }
   ],
   "source": [
    "print(len(data))"
   ]
  },
  {
   "cell_type": "code",
   "execution_count": 10,
   "metadata": {},
   "outputs": [
    {
     "name": "stdout",
     "output_type": "stream",
     "text": [
      "(24718, 1) (24718, 3700)\n"
     ]
    }
   ],
   "source": [
    "data=pd.read_csv('03/data.csv',header=None,delimiter=' ')\n",
    "label=pd.read_csv('03/label.csv',header=None)\n",
    "data=np.array(data)\n",
    "label=np.array(label)\n",
    "print(label.shape,data.shape)"
   ]
  },
  {
   "cell_type": "code",
   "execution_count": 11,
   "metadata": {},
   "outputs": [
    {
     "name": "stdout",
     "output_type": "stream",
     "text": [
      "<class 'numpy.float64'>\n"
     ]
    }
   ],
   "source": [
    "print(type(data[1][2]))"
   ]
  },
  {
   "cell_type": "code",
   "execution_count": 12,
   "metadata": {},
   "outputs": [],
   "source": [
    "#分割数据集，划分训练集和验证集\n",
    "import sklearn.model_selection\n",
    "from sklearn.model_selection import train_test_split\n",
    "X = np.zeros(data.shape)\n",
    "X[:,:] = data\n",
    "y = label\n",
    "y = np_utils.to_categorical(y)\n",
    "X_train, X_test, y_train, y_test = train_test_split(X, y,test_size = 0.3)"
   ]
  },
  {
   "cell_type": "code",
   "execution_count": 13,
   "metadata": {},
   "outputs": [
    {
     "name": "stdout",
     "output_type": "stream",
     "text": [
      "(17302, 3700) (7416, 3700) (17302, 2) (7416, 2)\n"
     ]
    }
   ],
   "source": [
    "print(X_train.shape,X_test.shape,y_train.shape,y_test.shape)"
   ]
  },
  {
   "cell_type": "code",
   "execution_count": 14,
   "metadata": {},
   "outputs": [
    {
     "data": {
      "text/plain": [
       "array([0., 1.], dtype=float32)"
      ]
     },
     "execution_count": 14,
     "metadata": {},
     "output_type": "execute_result"
    }
   ],
   "source": [
    "y[1]"
   ]
  },
  {
   "cell_type": "code",
   "execution_count": 15,
   "metadata": {},
   "outputs": [
    {
     "name": "stdout",
     "output_type": "stream",
     "text": [
      "WARNING:tensorflow:From /home/zouzq/.local/lib/python3.6/site-packages/tensorflow/python/ops/init_ops.py:1251: calling VarianceScaling.__init__ (from tensorflow.python.ops.init_ops) with dtype is deprecated and will be removed in a future version.\n",
      "Instructions for updating:\n",
      "Call initializer instance with the dtype argument instead of passing it to the constructor\n",
      "Model: \"model\"\n",
      "__________________________________________________________________________________________________\n",
      "Layer (type)                    Output Shape         Param #     Connected to                     \n",
      "==================================================================================================\n",
      "input_1 (InputLayer)            [(None, 3700)]       0                                            \n",
      "__________________________________________________________________________________________________\n",
      "reshape (Reshape)               (None, 3700, 1)      0           input_1[0][0]                    \n",
      "__________________________________________________________________________________________________\n",
      "conv1d (Conv1D)                 (None, 3700, 16)     64          reshape[0][0]                    \n",
      "__________________________________________________________________________________________________\n",
      "conv1d_1 (Conv1D)               (None, 3700, 16)     784         conv1d[0][0]                     \n",
      "__________________________________________________________________________________________________\n",
      "conv1d_3 (Conv1D)               (None, 3700, 16)     32          reshape[0][0]                    \n",
      "__________________________________________________________________________________________________\n",
      "conv1d_2 (Conv1D)               (None, 3700, 16)     784         conv1d_1[0][0]                   \n",
      "__________________________________________________________________________________________________\n",
      "add (Add)                       (None, 3700, 16)     0           conv1d_3[0][0]                   \n",
      "                                                                 conv1d_2[0][0]                   \n",
      "__________________________________________________________________________________________________\n",
      "max_pooling1d (MaxPooling1D)    (None, 1850, 16)     0           add[0][0]                        \n",
      "__________________________________________________________________________________________________\n",
      "conv1d_4 (Conv1D)               (None, 1850, 32)     1568        max_pooling1d[0][0]              \n",
      "__________________________________________________________________________________________________\n",
      "conv1d_5 (Conv1D)               (None, 1850, 32)     3104        conv1d_4[0][0]                   \n",
      "__________________________________________________________________________________________________\n",
      "conv1d_7 (Conv1D)               (None, 1850, 32)     544         max_pooling1d[0][0]              \n",
      "__________________________________________________________________________________________________\n",
      "conv1d_6 (Conv1D)               (None, 1850, 32)     3104        conv1d_5[0][0]                   \n",
      "__________________________________________________________________________________________________\n",
      "add_1 (Add)                     (None, 1850, 32)     0           conv1d_7[0][0]                   \n",
      "                                                                 conv1d_6[0][0]                   \n",
      "__________________________________________________________________________________________________\n",
      "max_pooling1d_1 (MaxPooling1D)  (None, 925, 32)      0           add_1[0][0]                      \n",
      "__________________________________________________________________________________________________\n",
      "conv1d_8 (Conv1D)               (None, 925, 64)      6208        max_pooling1d_1[0][0]            \n",
      "__________________________________________________________________________________________________\n",
      "conv1d_9 (Conv1D)               (None, 925, 64)      12352       conv1d_8[0][0]                   \n",
      "__________________________________________________________________________________________________\n",
      "conv1d_11 (Conv1D)              (None, 925, 64)      2112        max_pooling1d_1[0][0]            \n",
      "__________________________________________________________________________________________________\n",
      "conv1d_10 (Conv1D)              (None, 925, 64)      12352       conv1d_9[0][0]                   \n",
      "__________________________________________________________________________________________________\n",
      "add_2 (Add)                     (None, 925, 64)      0           conv1d_11[0][0]                  \n",
      "                                                                 conv1d_10[0][0]                  \n",
      "__________________________________________________________________________________________________\n",
      "max_pooling1d_2 (MaxPooling1D)  (None, 462, 64)      0           add_2[0][0]                      \n",
      "__________________________________________________________________________________________________\n",
      "conv1d_12 (Conv1D)              (None, 462, 128)     24704       max_pooling1d_2[0][0]            \n",
      "__________________________________________________________________________________________________\n",
      "conv1d_13 (Conv1D)              (None, 462, 128)     49280       conv1d_12[0][0]                  \n",
      "__________________________________________________________________________________________________\n",
      "conv1d_15 (Conv1D)              (None, 462, 128)     8320        max_pooling1d_2[0][0]            \n",
      "__________________________________________________________________________________________________\n",
      "conv1d_14 (Conv1D)              (None, 462, 128)     49280       conv1d_13[0][0]                  \n",
      "__________________________________________________________________________________________________\n",
      "add_3 (Add)                     (None, 462, 128)     0           conv1d_15[0][0]                  \n",
      "                                                                 conv1d_14[0][0]                  \n",
      "__________________________________________________________________________________________________\n",
      "max_pooling1d_3 (MaxPooling1D)  (None, 231, 128)     0           add_3[0][0]                      \n",
      "__________________________________________________________________________________________________\n",
      "dropout (Dropout)               (None, 231, 128)     0           max_pooling1d_3[0][0]            \n",
      "__________________________________________________________________________________________________\n",
      "flatten (Flatten)               (None, 29568)        0           dropout[0][0]                    \n",
      "__________________________________________________________________________________________________\n",
      "dense (Dense)                   (None, 128)          3784832     flatten[0][0]                    \n",
      "__________________________________________________________________________________________________\n",
      "dense_1 (Dense)                 (None, 2)            258         dense[0][0]                      \n",
      "==================================================================================================\n",
      "Total params: 3,959,682\n",
      "Trainable params: 3,959,682\n",
      "Non-trainable params: 0\n",
      "__________________________________________________________________________________________________\n",
      "None\n"
     ]
    }
   ],
   "source": [
    "#构造网络\n",
    "from tensorflow.python.keras.models import Sequential\n",
    "from tensorflow.python.keras.layers import Dense, Activation, Flatten, Convolution1D, Dropout, MaxPooling1D, GlobalAveragePooling1D\n",
    "from tensorflow.python.keras.optimizers import SGD\n",
    "from tensorflow.python.keras.utils import np_utils\n",
    "import tensorflow.keras.backend as K\n",
    "from tensorflow.python.keras.optimizers import Adam\n",
    "from tensorflow.python.keras.layers import *\n",
    "from tensorflow.python.keras.models import Model\n",
    "import tensorflow.python.keras\n",
    "from tensorflow.python.keras.layers import Permute\n",
    "from tensorflow.python.keras import initializers\n",
    "\n",
    "def BLOCK(seq, filters): # 定义网络的Block\n",
    "    cnn = Conv1D(filters, 3, padding='SAME', dilation_rate=1, activation='relu')(seq)\n",
    "    cnn = Conv1D(filters, 3, padding='SAME', dilation_rate=2, activation='relu')(cnn)\n",
    "    cnn = Conv1D(filters, 3, padding='SAME', dilation_rate=4, activation='relu')(cnn)\n",
    "    if int(seq.shape[-1]) != filters:\n",
    "        seq = Conv1D(int(cnn.shape[2]), 1, padding='SAME')(seq)\n",
    "    seq = add([seq, cnn])\n",
    "    return seq\n",
    "\n",
    "\n",
    "input_dims = 3700\n",
    "inputs = Input(shape=(input_dims,))\n",
    "reshape = Reshape((3700, 1), input_shape=(3700,))(inputs)\n",
    "seq = reshape\n",
    "\n",
    "seq = BLOCK(seq, 16)\n",
    "seq = MaxPooling1D(2)(seq)\n",
    "seq = BLOCK(seq, 32)\n",
    "seq = MaxPooling1D(2)(seq)\n",
    "seq = BLOCK(seq, 64)\n",
    "seq = MaxPooling1D(2)(seq)\n",
    "seq = BLOCK(seq, 128)\n",
    "seq = MaxPooling1D(2)(seq)\n",
    "seq = Dropout(0.5)(seq)\n",
    "\n",
    "seq = Flatten()(seq)\n",
    "seq = Dense(128, activation='sigmoid')(seq)\n",
    "output_tensor = Dense(2, activation='softmax')(seq)\n",
    "model = Model(inputs=[inputs], outputs=output_tensor)\n",
    "print(model.summary())"
   ]
  },
  {
   "cell_type": "code",
   "execution_count": 16,
   "metadata": {},
   "outputs": [
    {
     "name": "stdout",
     "output_type": "stream",
     "text": [
      "Train on 17302 samples, validate on 7416 samples\n",
      "Epoch 1/100\n",
      "17302/17302 [==============================] - 33s 2ms/sample - loss: 0.3383 - acc: 0.8401 - val_loss: 0.1107 - val_acc: 0.9602\n",
      "Epoch 2/100\n",
      "17302/17302 [==============================] - 29s 2ms/sample - loss: 0.0926 - acc: 0.9703 - val_loss: 0.0635 - val_acc: 0.9841\n",
      "Epoch 3/100\n",
      "17302/17302 [==============================] - 29s 2ms/sample - loss: 0.0465 - acc: 0.9870 - val_loss: 0.0221 - val_acc: 0.9947\n",
      "Epoch 4/100\n",
      "17302/17302 [==============================] - 29s 2ms/sample - loss: 0.0213 - acc: 0.9946 - val_loss: 0.0140 - val_acc: 0.9969\n",
      "Epoch 5/100\n",
      "17302/17302 [==============================] - 29s 2ms/sample - loss: 0.0116 - acc: 0.9971 - val_loss: 0.0153 - val_acc: 0.9964\n",
      "Epoch 6/100\n",
      "17302/17302 [==============================] - 29s 2ms/sample - loss: 0.0090 - acc: 0.9980 - val_loss: 0.0102 - val_acc: 0.9978\n",
      "Epoch 7/100\n",
      "17302/17302 [==============================] - 29s 2ms/sample - loss: 0.0076 - acc: 0.9981 - val_loss: 0.0112 - val_acc: 0.9974\n",
      "Epoch 8/100\n",
      "17302/17302 [==============================] - 29s 2ms/sample - loss: 0.0054 - acc: 0.9989 - val_loss: 0.0092 - val_acc: 0.9977\n",
      "Epoch 9/100\n",
      "17302/17302 [==============================] - 29s 2ms/sample - loss: 0.0051 - acc: 0.9990 - val_loss: 0.0089 - val_acc: 0.9982\n",
      "Epoch 10/100\n",
      "17302/17302 [==============================] - 29s 2ms/sample - loss: 0.0059 - acc: 0.9985 - val_loss: 0.0089 - val_acc: 0.9982\n",
      "Epoch 11/100\n",
      "17302/17302 [==============================] - 29s 2ms/sample - loss: 0.0036 - acc: 0.9994 - val_loss: 0.0083 - val_acc: 0.9984\n",
      "Epoch 12/100\n",
      "17302/17302 [==============================] - 29s 2ms/sample - loss: 0.0035 - acc: 0.9992 - val_loss: 0.0087 - val_acc: 0.9985\n",
      "Epoch 13/100\n",
      "17302/17302 [==============================] - 29s 2ms/sample - loss: 0.0048 - acc: 0.9988 - val_loss: 0.0080 - val_acc: 0.9988\n",
      "Epoch 14/100\n",
      "17302/17302 [==============================] - 28s 2ms/sample - loss: 0.0035 - acc: 0.9991 - val_loss: 0.0083 - val_acc: 0.9984\n",
      "Epoch 15/100\n",
      "17302/17302 [==============================] - 28s 2ms/sample - loss: 0.0030 - acc: 0.9994 - val_loss: 0.0088 - val_acc: 0.9984\n",
      "Epoch 16/100\n",
      "17302/17302 [==============================] - 28s 2ms/sample - loss: 0.0019 - acc: 0.9996 - val_loss: 0.0092 - val_acc: 0.9985\n"
     ]
    },
    {
     "data": {
      "text/plain": [
       "<tensorflow.python.keras.callbacks.History at 0x7f55f088e668>"
      ]
     },
     "execution_count": 16,
     "metadata": {},
     "output_type": "execute_result"
    }
   ],
   "source": [
    "#train model setting\n",
    "from tensorflow.keras.callbacks import EarlyStopping, CSVLogger, ModelCheckpoint\n",
    "from tensorflow.keras.optimizers import *\n",
    "os.environ[\"KERAS_BACKEND\"] = \"tensorflow\"\n",
    "os.environ['CUDA_VISIBLE_DEVICES']='1'\n",
    "\n",
    "callbacks = [EarlyStopping(patience=3), CSVLogger('cnn.csv'), \n",
    "             ModelCheckpoint('Restesst.h5', save_best_only=True,save_weight_only = False)]\n",
    "\n",
    "model.compile(loss='categorical_crossentropy',\n",
    "              optimizer=Adam(1e-3, amsgrad=True), \n",
    "              metrics=['accuracy'])\n",
    "model.fit(X_train,y_train, epochs=100,validation_data = (X_test,y_test), workers=4, use_multiprocessing=True,\n",
    "                      batch_size = 256,\n",
    "                    callbacks=callbacks)"
   ]
  },
  {
   "cell_type": "code",
   "execution_count": 18,
   "metadata": {},
   "outputs": [],
   "source": [
    "test=Model(inputs=model.get_layer('input_1').input,outputs=model.get_layer('dense').output)"
   ]
  },
  {
   "cell_type": "code",
   "execution_count": 19,
   "metadata": {
    "collapsed": true
   },
   "outputs": [
    {
     "name": "stdout",
     "output_type": "stream",
     "text": [
      "Model: \"model_1\"\n",
      "__________________________________________________________________________________________________\n",
      "Layer (type)                    Output Shape         Param #     Connected to                     \n",
      "==================================================================================================\n",
      "input_1 (InputLayer)            [(None, 3700)]       0                                            \n",
      "__________________________________________________________________________________________________\n",
      "reshape (Reshape)               (None, 3700, 1)      0           input_1[0][0]                    \n",
      "__________________________________________________________________________________________________\n",
      "conv1d (Conv1D)                 (None, 3700, 16)     64          reshape[0][0]                    \n",
      "__________________________________________________________________________________________________\n",
      "conv1d_1 (Conv1D)               (None, 3700, 16)     784         conv1d[0][0]                     \n",
      "__________________________________________________________________________________________________\n",
      "conv1d_3 (Conv1D)               (None, 3700, 16)     32          reshape[0][0]                    \n",
      "__________________________________________________________________________________________________\n",
      "conv1d_2 (Conv1D)               (None, 3700, 16)     784         conv1d_1[0][0]                   \n",
      "__________________________________________________________________________________________________\n",
      "add (Add)                       (None, 3700, 16)     0           conv1d_3[0][0]                   \n",
      "                                                                 conv1d_2[0][0]                   \n",
      "__________________________________________________________________________________________________\n",
      "max_pooling1d (MaxPooling1D)    (None, 1850, 16)     0           add[0][0]                        \n",
      "__________________________________________________________________________________________________\n",
      "conv1d_4 (Conv1D)               (None, 1850, 32)     1568        max_pooling1d[0][0]              \n",
      "__________________________________________________________________________________________________\n",
      "conv1d_5 (Conv1D)               (None, 1850, 32)     3104        conv1d_4[0][0]                   \n",
      "__________________________________________________________________________________________________\n",
      "conv1d_7 (Conv1D)               (None, 1850, 32)     544         max_pooling1d[0][0]              \n",
      "__________________________________________________________________________________________________\n",
      "conv1d_6 (Conv1D)               (None, 1850, 32)     3104        conv1d_5[0][0]                   \n",
      "__________________________________________________________________________________________________\n",
      "add_1 (Add)                     (None, 1850, 32)     0           conv1d_7[0][0]                   \n",
      "                                                                 conv1d_6[0][0]                   \n",
      "__________________________________________________________________________________________________\n",
      "max_pooling1d_1 (MaxPooling1D)  (None, 925, 32)      0           add_1[0][0]                      \n",
      "__________________________________________________________________________________________________\n",
      "conv1d_8 (Conv1D)               (None, 925, 64)      6208        max_pooling1d_1[0][0]            \n",
      "__________________________________________________________________________________________________\n",
      "conv1d_9 (Conv1D)               (None, 925, 64)      12352       conv1d_8[0][0]                   \n",
      "__________________________________________________________________________________________________\n",
      "conv1d_11 (Conv1D)              (None, 925, 64)      2112        max_pooling1d_1[0][0]            \n",
      "__________________________________________________________________________________________________\n",
      "conv1d_10 (Conv1D)              (None, 925, 64)      12352       conv1d_9[0][0]                   \n",
      "__________________________________________________________________________________________________\n",
      "add_2 (Add)                     (None, 925, 64)      0           conv1d_11[0][0]                  \n",
      "                                                                 conv1d_10[0][0]                  \n",
      "__________________________________________________________________________________________________\n",
      "max_pooling1d_2 (MaxPooling1D)  (None, 462, 64)      0           add_2[0][0]                      \n",
      "__________________________________________________________________________________________________\n",
      "conv1d_12 (Conv1D)              (None, 462, 128)     24704       max_pooling1d_2[0][0]            \n",
      "__________________________________________________________________________________________________\n",
      "conv1d_13 (Conv1D)              (None, 462, 128)     49280       conv1d_12[0][0]                  \n",
      "__________________________________________________________________________________________________\n",
      "conv1d_15 (Conv1D)              (None, 462, 128)     8320        max_pooling1d_2[0][0]            \n",
      "__________________________________________________________________________________________________\n",
      "conv1d_14 (Conv1D)              (None, 462, 128)     49280       conv1d_13[0][0]                  \n",
      "__________________________________________________________________________________________________\n",
      "add_3 (Add)                     (None, 462, 128)     0           conv1d_15[0][0]                  \n",
      "                                                                 conv1d_14[0][0]                  \n",
      "__________________________________________________________________________________________________\n",
      "max_pooling1d_3 (MaxPooling1D)  (None, 231, 128)     0           add_3[0][0]                      \n",
      "__________________________________________________________________________________________________\n",
      "dropout (Dropout)               (None, 231, 128)     0           max_pooling1d_3[0][0]            \n",
      "__________________________________________________________________________________________________\n",
      "flatten (Flatten)               (None, 29568)        0           dropout[0][0]                    \n",
      "__________________________________________________________________________________________________\n",
      "dense (Dense)                   (None, 128)          3784832     flatten[0][0]                    \n",
      "==================================================================================================\n",
      "Total params: 3,959,424\n",
      "Trainable params: 3,959,424\n",
      "Non-trainable params: 0\n",
      "__________________________________________________________________________________________________\n"
     ]
    }
   ],
   "source": [
    "test.summary()"
   ]
  },
  {
   "cell_type": "code",
   "execution_count": 20,
   "metadata": {},
   "outputs": [],
   "source": [
    "#保存该模型能得到的128维度的向量\n",
    "y1=test.predict(data)\n",
    "np.savetxt('03/data128.csv',y1,delimiter=',',fmt='%s')"
   ]
  },
  {
   "cell_type": "code",
   "execution_count": 21,
   "metadata": {},
   "outputs": [
    {
     "name": "stdout",
     "output_type": "stream",
     "text": [
      "(24718, 128)\n"
     ]
    }
   ],
   "source": [
    "print(y1.shape)"
   ]
  },
  {
   "cell_type": "code",
   "execution_count": 22,
   "metadata": {},
   "outputs": [
    {
     "data": {
      "image/png": "[encoded data removed]",
      "text/plain": [
       "<Figure size 432x288 with 1 Axes>"
      ]
     },
     "metadata": {
      "needs_background": "light"
     },
     "output_type": "display_data"
    },
    {
     "data": {
      "text/plain": [
       "[<matplotlib.lines.Line2D at 0x7f559409e9e8>]"
      ]
     },
     "execution_count": 22,
     "metadata": {},
     "output_type": "execute_result"
    },
    {
     "data": {
      "image/png": "[encoded data removed]",
      "text/plain": [
       "<Figure size 432x288 with 1 Axes>"
      ]
     },
     "metadata": {
      "needs_background": "light"
     },
     "output_type": "display_data"
    }
   ],
   "source": [
    "plt.plot(y1[2])\n",
    "plt.show()\n",
    "plt.plot(y1[20000])"
   ]
  }
 ],
 "metadata": {
  "kernelspec": {
   "display_name": "Python 3",
   "language": "python",
   "name": "python3"
  },
  "language_info": {
   "codemirror_mode": {
    "name": "ipython",
    "version": 3
   },
   "file_extension": ".py",
   "mimetype": "text/x-python",
   "name": "python",
   "nbconvert_exporter": "python",
   "pygments_lexer": "ipython3",
   "version": "3.6.9"
  }
 },
 "nbformat": 4,
 "nbformat_minor": 2
}
